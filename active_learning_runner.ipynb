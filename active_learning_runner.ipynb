{
 "cells": [
  {
   "cell_type": "code",
   "execution_count": 5,
   "id": "44aa1392-a432-4dbf-9db1-3d5a55f34388",
   "metadata": {},
   "outputs": [],
   "source": [
    "import json\n",
    "import random as rd\n",
    "import os\n",
    "import wandb\n",
    "\n",
    "from src.globals import *\n",
    "from src.register_datasets import register_datasets, register_by_ids\n",
    "from src.pipeline_runner import run_pipeline\n",
    "from src.train import do_train\n",
    "from src.test import do_test\n",
    "\n",
    "from detectron2.config import get_cfg\n",
    "from detectron2 import model_zoo\n",
    "from detectron2.data import MetadataCatalog, DatasetCatalog\n",
    "from detectron2.modeling import build_model"
   ]
  },
  {
   "cell_type": "code",
   "execution_count": 6,
   "id": "0c058f51-6ece-4439-b4c4-9f850f7ff46f",
   "metadata": {},
   "outputs": [],
   "source": [
    "\n",
    "# Setup detectron2 logger\n",
    "from detectron2.utils.logger import setup_logger\n",
    "\n",
    "logger = setup_logger(output=\"./log/main.log\")\n",
    "logger.setLevel(0)"
   ]
  },
  {
   "cell_type": "markdown",
   "id": "46883ddb-b071-4dc6-afbb-459a38bcc885",
   "metadata": {},
   "source": [
    "# Active Learning\n",
    "\n",
    "## Random Benchmark\n",
    "first of all we want to benchmark our models when choosing the data randomly "
   ]
  },
  {
   "cell_type": "code",
   "execution_count": 7,
   "id": "38d2d1d1-c770-4d67-b53b-7e845d706af5",
   "metadata": {},
   "outputs": [],
   "source": [
    "register_datasets()"
   ]
  },
  {
   "cell_type": "code",
   "execution_count": null,
   "id": "4fe73a6f-54fa-4847-9972-3c9f987205a5",
   "metadata": {},
   "outputs": [
    {
     "name": "stdout",
     "output_type": "stream",
     "text": [
      "\u001b[5m\u001b[31mWARNING\u001b[0m \u001b[32m[10/22 15:38:19 d2.data.datasets.coco]: \u001b[0m\n",
      "Category ids in annotations are not in [1, #categories]! We'll apply a mapping for you.\n",
      "\n",
      "\u001b[5m\u001b[31mWARNING\u001b[0m \u001b[32m[10/22 15:38:25 d2.data.datasets.coco]: \u001b[0m\n",
      "Category ids in annotations are not in [1, #categories]! We'll apply a mapping for you.\n",
      "\n",
      "\u001b[5m\u001b[31mWARNING\u001b[0m \u001b[32m[10/22 15:38:25 d2.data.datasets.coco]: \u001b[0mUsing previously cached COCO format annotations at './output/al_tester/cell_acdc_validation_slim_coco_format.json'. You need to clear the cache file if your dataset has been modified.\n",
      "\u001b[5m\u001b[31mWARNING\u001b[0m \u001b[32m[10/22 15:38:53 d2.data.datasets.coco]: \u001b[0m\n",
      "Category ids in annotations are not in [1, #categories]! We'll apply a mapping for you.\n",
      "\n"
     ]
    }
   ],
   "source": [
    "%%capture\n",
    "with open(PATH_TRAIN_FULL_JSON) as file:\n",
    "    train_dict = json.load(file)\n",
    "        \n",
    "image_ids_full = [image[\"image_id\"] for image in DatasetCatalog.get(TRAIN_DATASET_FULL)]\n",
    "\n",
    "\n",
    "\n",
    "\n",
    "\n",
    "cfg = get_cfg()\n",
    "cfg.merge_from_file(model_zoo.get_config_file(\"COCO-InstanceSegmentation/mask_rcnn_R_50_FPN_3x.yaml\"))\n",
    "\n",
    "cfg.DATASETS.TEST = (VALIDATION_DATASET_SLIM,)\n",
    "cfg.DATALOADER.NUM_WORKERS = 2\n",
    "cfg.MODEL.WEIGHTS = model_zoo.get_checkpoint_url(\"COCO-InstanceSegmentation/mask_rcnn_R_50_FPN_3x.yaml\")  # Let training initialize from model zoo\n",
    "cfg.SOLVER.IMS_PER_BATCH = 2  # This is the real \"batch size\" commonly known to deep learning people\n",
    "cfg.SOLVER.BASE_LR = 0.00025  # pick a good LR\n",
    "cfg.SOLVER.MAX_ITER = 300    # 300 iterations seems good enough for this toy dataset; you will need to train longer for a practical dataset\n",
    "cfg.WARMUP_ITERS = 0\n",
    "cfg.SOLVER.STEPS = []        # do not decay learning rate\n",
    "cfg.MODEL.ROI_HEADS.BATCH_SIZE_PER_IMAGE = 128   # The \"RoIHead batch size\". 128 is faster, and good enough for this toy dataset (default: 512)\n",
    "cfg.MODEL.ROI_HEADS.NUM_CLASSES = 1\n",
    "cfg.OUTPUT_DIR = \"./output/al_tester\"\n",
    "#cfg.MODEL.WEIGHTS = os.path.join(cfg.OUTPUT_DIR, \"model_final.pth\")\n",
    "\n",
    "model = build_model(cfg)\n",
    "# initialize weights and biases\n",
    "wandb.init(project=\"activeCell-ACDC\", sync_tensorboard=True)\n",
    "result = do_test(cfg, model, logger)\n",
    "print(result)\n",
    "\n",
    "rd.seed(0)\n",
    "sample_ids = rd.sample(image_ids_full, 11) \n",
    "missing_ids = list(set(image_ids_full) - set(sample_ids))\n",
    "\n",
    "results = []\n",
    "\n",
    "\n",
    "for i in range(7):    \n",
    "    \n",
    "    \n",
    "    if not missing_ids:\n",
    "        break\n",
    "    \n",
    "    num_new_samples = min(len(missing_ids),10)\n",
    "    sample_ids += rd.sample(missing_ids, num_new_samples)\n",
    "    print(sample_ids)\n",
    "    missing_ids = list(set(image_ids_full) - set(sample_ids))\n",
    "    dataset_name = register_by_ids(\"test_sample\",sample_ids)\n",
    "    \n",
    "    cfg.DATASETS.TRAIN = (dataset_name,)\n",
    "    cfg.SOLVER.MAX_ITER = len(sample_ids)*20\n",
    "    cfg.SOLVER.STEPS = [len(sample_ids)*10]\n",
    "    \n",
    "    do_train(cfg, model, logger,resume= i > 0)\n",
    "    \n",
    "    result = do_test(cfg, model, logger)\n",
    "    print(result)\n",
    "    results.append(result)\n",
    "    \n"
   ]
  },
  {
   "cell_type": "code",
   "execution_count": null,
   "id": "f828da33-d45e-4227-adde-4a48c6564e45",
   "metadata": {},
   "outputs": [],
   "source": [
    "result"
   ]
  },
  {
   "cell_type": "code",
   "execution_count": null,
   "id": "f2171c97-6fbe-4adc-8592-ba6fc8b5a7e6",
   "metadata": {},
   "outputs": [],
   "source": [
    "[result['segm']['AP'] for result in results]"
   ]
  },
  {
   "cell_type": "code",
   "execution_count": null,
   "id": "bfb9f8af-9ab0-4bde-b65c-aa2e505e9766",
   "metadata": {},
   "outputs": [],
   "source": []
  }
 ],
 "metadata": {
  "kernelspec": {
   "display_name": "Python 3 (ipykernel)",
   "language": "python",
   "name": "python3"
  },
  "language_info": {
   "codemirror_mode": {
    "name": "ipython",
    "version": 3
   },
   "file_extension": ".py",
   "mimetype": "text/x-python",
   "name": "python",
   "nbconvert_exporter": "python",
   "pygments_lexer": "ipython3",
   "version": "3.10.6"
  }
 },
 "nbformat": 4,
 "nbformat_minor": 5
}
