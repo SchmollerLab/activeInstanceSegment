{
 "cells": [
  {
   "cell_type": "code",
   "execution_count": 1,
   "id": "844f41bb-60c8-44fe-badc-907ff33e70f1",
   "metadata": {},
   "outputs": [
    {
     "name": "stdout",
     "output_type": "stream",
     "text": [
      "/mnt/activeCell-ACDC\n",
      "README.md    data\t\tnohup.out\t  requirements.txt  wandb\n",
      "ac_acdc_env  jupyter_notebooks\toutput\t\t  shell_scripts\n",
      "al_output    log\t\tpipeline_configs  src\n"
     ]
    },
    {
     "name": "stderr",
     "output_type": "stream",
     "text": [
      "/mnt/activeCell-ACDC/ac_acdc_env/lib/python3.10/site-packages/tqdm/auto.py:22: TqdmWarning: IProgress not found. Please update jupyter and ipywidgets. See https://ipywidgets.readthedocs.io/en/stable/user_install.html\n",
      "  from .autonotebook import tqdm as notebook_tqdm\n"
     ]
    },
    {
     "name": "stdout",
     "output_type": "stream",
     "text": [
      "/mnt/activeCell-ACDC/src\n"
     ]
    }
   ],
   "source": [
    "%load_ext autoreload\n",
    "%autoreload 2\n",
    "%cd /mnt/activeCell-ACDC\n",
    "!ls\n",
    "\n",
    "import json\n",
    "import random as rd\n",
    "import matplotlib.image as mpimg\n",
    "import cv2\n",
    "import wandb\n",
    "import torch\n",
    "import os\n",
    "import logging\n",
    "import pandas as pd\n",
    "import collections\n",
    "import matplotlib.pyplot as plt\n",
    "import seaborn as sns\n",
    "from umap import UMAP\n",
    "\n",
    "from detectron2.utils.visualizer import Visualizer\n",
    "from detectron2.utils.logger import setup_logger\n",
    "from detectron2.data import MetadataCatalog, DatasetCatalog\n",
    "from detectron2 import model_zoo\n",
    "from detectron2.config import get_cfg\n",
    "from detectron2.modeling import build_model\n",
    "from detectron2.evaluation import COCOEvaluator, inference_on_dataset\n",
    "from detectron2.data import build_detection_test_loader\n",
    "from detectron2.engine import DefaultPredictor\n",
    "from detectron2.checkpoint import DetectionCheckpointer\n",
    "\n",
    "from src.globals import *\n",
    "from src.visualization.show_image import show_image\n",
    "from src.register_datasets import register_datasets, get_dataset_name\n",
    "from src.config_builder import get_config\n",
    "\n",
    "\n",
    "from src.test import do_test\n",
    "from src.active_learning.al_trainer import *\n",
    "from src.active_learning.mc_dropout_sampler import *\n",
    "\n",
    "\n",
    "logger = setup_logger(output=\"./log/main.log\",name=\"null_logger\") \n",
    "logger.addHandler(logging.NullHandler())\n",
    "logging.getLogger('detectron2').setLevel(logging.WARNING)\n",
    "logging.getLogger('detectron2').addHandler(logging.NullHandler())\n"
   ]
  },
  {
   "cell_type": "code",
   "execution_count": 2,
   "id": "5f7873df-6291-4949-89de-20e1c6fe20a3",
   "metadata": {},
   "outputs": [
    {
     "name": "stdout",
     "output_type": "stream",
     "text": [
      "registering acdc_small dataset\n",
      "registering acdc_large dataset\n",
      "registering acdc_large_cls dataset\n"
     ]
    },
    {
     "name": "stderr",
     "output_type": "stream",
     "text": [
      "Failed to detect the name of this notebook, you can set it manually with the WANDB_NOTEBOOK_NAME environment variable to enable code saving.\n"
     ]
    },
    {
     "name": "stdout",
     "output_type": "stream",
     "text": [
      "running on server: False\n",
      "registering acdc_small dataset\n",
      "registering acdc_large dataset\n",
      "registering acdc_large_cls dataset\n",
      "\u001b[32m[02/17 12:27:25 d2.data.datasets.coco]: \u001b[0mLoading /mnt/activeCell-ACDC/data/acdc_large/train/cell_acdc_coco_ds.json takes 5.86 seconds.\n",
      "\u001b[5m\u001b[31mWARNING\u001b[0m \u001b[32m[02/17 12:27:25 d2.data.datasets.coco]: \u001b[0m\n",
      "Category ids in annotations are not in [1, #categories]! We'll apply a mapping for you.\n",
      "\n",
      "\u001b[32m[02/17 12:27:25 d2.data.datasets.coco]: \u001b[0mLoaded 5803 images in COCO format from /mnt/activeCell-ACDC/data/acdc_large/train/cell_acdc_coco_ds.json\n",
      "update_labeled_data\n"
     ]
    }
   ],
   "source": [
    "register_datasets()\n",
    "ds_json = DatasetCatalog.get(get_dataset_name(\n",
    "    ACDC_LARGE, DATASETS_DSPLITS[ACDC_LARGE][0]\n",
    "))\n",
    "running_on_server = False\n",
    "print(\"running on server:\", running_on_server)\n",
    "cfg = get_config(\"acdc_large_al\")\n",
    "cfg.OUTPUT_DIR = \"./al_output/acdc_large_al\"\n",
    "cfg.AL.OBJECT_TO_IMG_AGG = \"mean\"\n",
    "mc_trainer = ActiveLearningTrainer(cfg, is_test_mode=not running_on_server)\n",
    "\n",
    "wandb.init(\n",
    "    project=\"activeCell-ACDC\",\n",
    "    name=\"\",\n",
    "    sync_tensorboard=True,\n",
    "    mode=\"disabled\",\n",
    ")\n",
    "\n",
    "mc_trainer.cfg.AL.DATASETS.TRAIN_UNLABELED = get_dataset_name(\n",
    "    ACDC_LARGE, DATASETS_DSPLITS[ACDC_LARGE][0]\n",
    ")\n",
    "mc_trainer.al_dataset = ActiveLearingDataset(mc_trainer.cfg)\n",
    "mc_trainer.query_strategy = MCDropoutSampler(mc_trainer.cfg)\n"
   ]
  },
  {
   "cell_type": "code",
   "execution_count": 3,
   "id": "78f7e160-919c-4763-aae8-3c05c3a1591e",
   "metadata": {},
   "outputs": [
    {
     "name": "stderr",
     "output_type": "stream",
     "text": [
      "/mnt/activeCell-ACDC/ac_acdc_env/lib/python3.10/site-packages/torch/functional.py:504: UserWarning: torch.meshgrid: in an upcoming release, it will be required to pass the indexing argument. (Triggered internally at ../aten/src/ATen/native/TensorShape.cpp:3190.)\n",
      "  return _VF.meshgrid(tensors, **kwargs)  # type: ignore[attr-defined]\n"
     ]
    }
   ],
   "source": [
    "im_json = ds_json[0]\n",
    "input_image = cv2.imread(im_json[\"file_name\"])\n",
    "\n",
    "model = build_model(cfg)\n",
    "model.eval()\n",
    "\n",
    "\n",
    "aug = T.ResizeShortestEdge(\n",
    "    [cfg.INPUT.MIN_SIZE_TEST, cfg.INPUT.MIN_SIZE_TEST], cfg.INPUT.MAX_SIZE_TEST\n",
    ")\n",
    "with torch.no_grad():\n",
    "\n",
    "    height, width = input_image.shape[:2]\n",
    "    image = aug.get_transform(input_image).apply_image(input_image)\n",
    "    image = torch.as_tensor(image.astype(\"float32\").transpose(2, 0, 1))\n",
    "    inputs = [{\"image\": image, \"height\": height, \"width\": width}]\n",
    "\n",
    "    images = model.preprocess_image(inputs)\n",
    "    features = model.backbone(images.tensor)\n",
    "\n",
    "    proposals, _ = model.proposal_generator(images, features, None)\n",
    "    features_ = [features[f] for f in model.roi_heads.box_in_features]\n",
    "\n",
    "    box_features_pooler = model.roi_heads.box_pooler(\n",
    "        features_, [x.proposal_boxes for x in proposals]\n",
    "    )\n",
    "    prediction_list = []\n",
    "\n",
    "    box_features = model.roi_heads.box_head(box_features_pooler)\n",
    "    predictions = model.roi_heads.box_predictor(box_features)\n",
    "\n",
    "    pred_instances, pred_inds = model.roi_heads.box_predictor.inference(\n",
    "        predictions, proposals\n",
    "    )\n",
    "    softmaxes = torch.index_select(predictions[0],0,pred_inds[0])\n",
    "\n",
    "    pred_instances = model.roi_heads.forward_with_given_boxes(\n",
    "        features, pred_instances\n",
    "    )\n",
    "\n",
    "    outputs = model._postprocess(pred_instances, inputs, images.image_sizes)\n",
    "    for output in outputs:\n",
    "        output[\"instances\"].set(\"softmaxes\",softmaxes)"
   ]
  },
  {
   "cell_type": "code",
   "execution_count": 4,
   "id": "d2ca55ed-7a09-4eff-a314-ef0867501ff8",
   "metadata": {},
   "outputs": [
    {
     "data": {
      "text/plain": [
       "[{'instances': Instances(num_instances=0, image_height=211, image_width=240, fields=[pred_boxes: Boxes(tensor([], device='cuda:0', size=(0, 4))), scores: tensor([], device='cuda:0'), pred_classes: tensor([], device='cuda:0', dtype=torch.int64), pred_masks: tensor([], device='cuda:0', size=(0, 211, 240), dtype=torch.bool), softmaxes: tensor([], device='cuda:0', size=(0, 2))])}]"
      ]
     },
     "execution_count": 4,
     "metadata": {},
     "output_type": "execute_result"
    }
   ],
   "source": [
    "outputs"
   ]
  },
  {
   "cell_type": "code",
   "execution_count": 5,
   "id": "df41c2bf-e05a-46c4-a395-ac8c64ab577d",
   "metadata": {},
   "outputs": [
    {
     "data": {
      "text/plain": [
       "torch.Size([1, 256, 50, 58])"
      ]
     },
     "execution_count": 5,
     "metadata": {},
     "output_type": "execute_result"
    }
   ],
   "source": [
    "features[\"p4\"].shape"
   ]
  },
  {
   "cell_type": "code",
   "execution_count": 6,
   "id": "77c2eaa1-732d-4b2a-bcc4-5399fcdd6e29",
   "metadata": {},
   "outputs": [
    {
     "name": "stdout",
     "output_type": "stream",
     "text": [
      "25 29\n"
     ]
    }
   ],
   "source": [
    "layer = \"p4\"\n",
    "offs = 5\n",
    "\n",
    "\n",
    "mid_width = int(features[layer].shape[2]/2)\n",
    "mid_height = int(features[layer].shape[3]/2)\n",
    "print(mid_width,mid_height)\n",
    "feature_space = features[layer][0,:,mid_width-offs:mid_width+offs,mid_height-offs:mid_height+offs].flatten()"
   ]
  },
  {
   "cell_type": "code",
   "execution_count": 7,
   "id": "8f169002-4cf0-4dd1-b00c-711f3b10a7e7",
   "metadata": {},
   "outputs": [
    {
     "data": {
      "text/plain": [
       "torch.Size([25600])"
      ]
     },
     "execution_count": 7,
     "metadata": {},
     "output_type": "execute_result"
    }
   ],
   "source": [
    "feature_space.shape"
   ]
  },
  {
   "cell_type": "code",
   "execution_count": 8,
   "id": "e2054ae2-cbe8-46ae-b2d2-a808769a12f2",
   "metadata": {},
   "outputs": [],
   "source": [
    "rand_int = 4\n",
    "sample_every = 10\n",
    "filtered_ds_json = list(filter(lambda x: (int(x[\"image_id\"].split(\"_\")[-1]) + rand_int) % sample_every == 0, ds_json))\n"
   ]
  },
  {
   "cell_type": "code",
   "execution_count": 9,
   "id": "954a5f3b-5cd6-4b32-a63f-021cd7892b6e",
   "metadata": {},
   "outputs": [
    {
     "name": "stderr",
     "output_type": "stream",
     "text": [
      "100%|█████████████████████████████████████████████████████████████████████████████████| 580/580 [00:16<00:00, 36.25it/s]\n"
     ]
    }
   ],
   "source": [
    "\n",
    "\n",
    "model = build_model(cfg)\n",
    "model.eval()\n",
    "\n",
    "\n",
    "aug = T.ResizeShortestEdge(\n",
    "    [cfg.INPUT.MIN_SIZE_TEST, cfg.INPUT.MIN_SIZE_TEST], cfg.INPUT.MAX_SIZE_TEST\n",
    ")\n",
    "\n",
    "feature_list = []\n",
    "\n",
    "for image_json in tqdm(filtered_ds_json):\n",
    "    input_image = cv2.imread(image_json[\"file_name\"])\n",
    "    with torch.no_grad():\n",
    "\n",
    "        height, width = input_image.shape[:2]\n",
    "        image = aug.get_transform(input_image).apply_image(input_image)\n",
    "        image = torch.as_tensor(image.astype(\"float32\").transpose(2, 0, 1))\n",
    "        inputs = [{\"image\": image, \"height\": height, \"width\": width}]\n",
    "\n",
    "        images = model.preprocess_image(inputs)\n",
    "        features = model.backbone(images.tensor)\n",
    "\n",
    "            \n",
    "    mid_width = int(features[layer].shape[2]/2)\n",
    "    mid_height = int(features[layer].shape[3]/2)\n",
    "    \n",
    "    feature_space = features[layer][0,:,mid_width-offs:mid_width+offs,mid_height-offs:mid_height+offs].flatten()\n",
    "    \n",
    "    feature_list.append(feature_space.detach().cpu().numpy())"
   ]
  },
  {
   "cell_type": "code",
   "execution_count": 10,
   "id": "b3203321-4c81-4714-b4e7-25fb65d1446e",
   "metadata": {},
   "outputs": [
    {
     "data": {
      "text/plain": [
       "array([ 142.95512,  297.6851 ,  556.2942 , ..., 1346.023  , 1122.983  ,\n",
       "        855.30347], dtype=float32)"
      ]
     },
     "execution_count": 10,
     "metadata": {},
     "output_type": "execute_result"
    }
   ],
   "source": [
    "feature_list[0]"
   ]
  },
  {
   "cell_type": "code",
   "execution_count": 11,
   "id": "3ceb3306-3b56-42f2-a6dd-c4eb3851b9cf",
   "metadata": {},
   "outputs": [],
   "source": [
    "np_feature_list = np.stack(feature_list)"
   ]
  },
  {
   "cell_type": "code",
   "execution_count": 12,
   "id": "d642cdfc-d27e-494b-a6cd-0bec0937e0bd",
   "metadata": {},
   "outputs": [
    {
     "data": {
      "text/plain": [
       "array([[ 142.95512,  297.6851 ,  556.2942 , ..., 1346.023  , 1122.983  ,\n",
       "         855.30347],\n",
       "       [ 222.84807,  334.98196,  554.61383, ..., 1170.8391 , 1068.7054 ,\n",
       "        1233.0575 ],\n",
       "       [ 332.59094,  449.17966,  625.93604, ..., 1348.8184 , 1108.3915 ,\n",
       "         941.92413],\n",
       "       ...,\n",
       "       [ 540.21735,  526.64954,  494.74164, ..., 1467.0138 , 1351.7876 ,\n",
       "        1212.1818 ],\n",
       "       [ 499.89667,  321.0446 ,  474.90463, ..., 1508.0773 , 1606.4359 ,\n",
       "        1462.7339 ],\n",
       "       [ 323.04453,  420.9497 ,  530.4292 , ..., 1365.447  , 1282.2983 ,\n",
       "        1473.396  ]], dtype=float32)"
      ]
     },
     "execution_count": 12,
     "metadata": {},
     "output_type": "execute_result"
    }
   ],
   "source": [
    "np_feature_list"
   ]
  },
  {
   "cell_type": "code",
   "execution_count": 13,
   "id": "56cdc686-ebe9-45f3-9f93-3e0bd13e3009",
   "metadata": {},
   "outputs": [],
   "source": [
    "umap_2d = UMAP(n_components=2, init='random', random_state=0)\n",
    "umap_10d = UMAP(n_components=10, init='random', random_state=0)\n",
    "proj_2d = umap_2d.fit_transform(np_feature_list)\n",
    "proj_10d = umap_10d.fit_transform(np_feature_list)\n"
   ]
  },
  {
   "cell_type": "code",
   "execution_count": 14,
   "id": "e5d5b726-33bb-4049-a288-136074305197",
   "metadata": {},
   "outputs": [],
   "source": [
    "df = pd.DataFrame(data={\n",
    "    \"id\": [im_json[\"image_id\"] for im_json in filtered_ds_json],\n",
    "    \"first_comp\": proj_2d[:,0],\n",
    "    \"second_comp\": proj_2d[:,1],\n",
    "})\n"
   ]
  },
  {
   "cell_type": "code",
   "execution_count": 15,
   "id": "08dd06ee-5b26-4a0d-9a92-bb012eadf37f",
   "metadata": {},
   "outputs": [],
   "source": [
    "from sklearn.cluster import KMeans\n",
    "\n",
    "kmeans = KMeans(n_clusters=5, random_state=0, n_init=\"auto\").fit(proj_10d)\n",
    "\n",
    "df[\"cluster\"] = kmeans.labels_"
   ]
  },
  {
   "cell_type": "code",
   "execution_count": 16,
   "id": "d6ac86d0-97d8-4302-8281-09cc91072c34",
   "metadata": {},
   "outputs": [
    {
     "data": {
      "text/plain": [
       "<AxesSubplot: xlabel='first_comp', ylabel='second_comp'>"
      ]
     },
     "execution_count": 16,
     "metadata": {},
     "output_type": "execute_result"
    },
    {
     "data": {
      "image/png": "[encoded data removed]",
      "text/plain": [
       "<Figure size 640x480 with 1 Axes>"
      ]
     },
     "metadata": {},
     "output_type": "display_data"
    }
   ],
   "source": [
    "#sns.scatterplot(data=df, x=\"first_comp\", y=\"second_comp\", hue=\"time\")\n",
    "sns.scatterplot(data=df, x=\"first_comp\", y=\"second_comp\", hue=\"cluster\")"
   ]
  },
  {
   "cell_type": "code",
   "execution_count": 17,
   "id": "1a1201bb-b5c2-411c-8756-d33967d5a349",
   "metadata": {},
   "outputs": [],
   "source": [
    "df[\"uncertainty\"] = np.random.rand(580)"
   ]
  },
  {
   "cell_type": "code",
   "execution_count": 37,
   "id": "a84521c4-110b-4b14-8228-3537a0738ff2",
   "metadata": {},
   "outputs": [
    {
     "name": "stdout",
     "output_type": "stream",
     "text": [
      "                                        id  first_comp  second_comp  \\\n",
      "cluster                                                               \n",
      "0        acdc_data3_Yagya_SCGE_WT_pos_6_76    4.020092     8.577219   \n",
      "1        acdc_data3_Yagya_SCGE_WT_pos_7_96    5.708480    15.600738   \n",
      "2         acdc_data3_Yagya_SCGE_WT_pos_3_6    4.419514    10.888716   \n",
      "3          acdc_data3_Yagya_SCD_WT_pos_4_6    3.854191     5.809752   \n",
      "4        acdc_data3_Yagya_SCGE_WT_pos_6_96    3.505491    13.278059   \n",
      "\n",
      "         uncertainty  \n",
      "cluster               \n",
      "0           0.996762  \n",
      "1           0.991000  \n",
      "2           0.996096  \n",
      "3           0.996475  \n",
      "4           0.985841  \n",
      "['acdc_data3_Yagya_SCGE_WT_pos_1_6' 3.770883321762085 9.55089282989502 2\n",
      " 0.9960962220014217]\n",
      "['acdc_data3_20210722_pos_17_96' 2.5328030586242676 7.614253044128418 0\n",
      " 0.9967623014309018]\n",
      "['TimeLapse_2D_MIA_KC_htb1_mCitrine_labeled_pos_3_86' 3.3927245140075684\n",
      " 4.094755172729492 3 0.9964747581605401]\n",
      "['acdc_data3_20210722_pos_13_36' 3.9639856815338135 14.781991004943848 1\n",
      " 0.9910002452587593]\n",
      "['acdc_data3_Yagya_SCGE_WT_pos_6_96' 0.6327242255210876 11.204241752624512\n",
      " 4 0.9858412044408152]\n"
     ]
    }
   ],
   "source": [
    "\n",
    "print(df.groupby('cluster').agg('max'))\n",
    "for cluster in df.cluster.unique():\n",
    "    df_tmp = df[df[\"cluster\"] == cluster].copy()\n",
    "    print(df[df[\"uncertainty\"] == df_tmp[\"uncertainty\"].max()].values[0])"
   ]
  },
  {
   "cell_type": "code",
   "execution_count": 19,
   "id": "c71e4a2c-099a-4485-9d0a-f402f79d740a",
   "metadata": {},
   "outputs": [
    {
     "data": {
      "text/html": [
       "<div>\n",
       "<style scoped>\n",
       "    .dataframe tbody tr th:only-of-type {\n",
       "        vertical-align: middle;\n",
       "    }\n",
       "\n",
       "    .dataframe tbody tr th {\n",
       "        vertical-align: top;\n",
       "    }\n",
       "\n",
       "    .dataframe thead th {\n",
       "        text-align: right;\n",
       "    }\n",
       "</style>\n",
       "<table border=\"1\" class=\"dataframe\">\n",
       "  <thead>\n",
       "    <tr style=\"text-align: right;\">\n",
       "      <th></th>\n",
       "      <th>id</th>\n",
       "      <th>first_comp</th>\n",
       "      <th>second_comp</th>\n",
       "      <th>cluster</th>\n",
       "      <th>uncertainty</th>\n",
       "    </tr>\n",
       "  </thead>\n",
       "  <tbody>\n",
       "    <tr>\n",
       "      <th>94</th>\n",
       "      <td>TimeLapse_2D_MIA_KC_htb1_mCitrine_labeled_pos_...</td>\n",
       "      <td>3.392725</td>\n",
       "      <td>4.094755</td>\n",
       "      <td>3</td>\n",
       "      <td>0.996475</td>\n",
       "    </tr>\n",
       "    <tr>\n",
       "      <th>160</th>\n",
       "      <td>acdc_data2_F016_pos_4_66</td>\n",
       "      <td>2.919848</td>\n",
       "      <td>12.799683</td>\n",
       "      <td>1</td>\n",
       "      <td>0.990393</td>\n",
       "    </tr>\n",
       "    <tr>\n",
       "      <th>278</th>\n",
       "      <td>acdc_data3_20210722_pos_13_36</td>\n",
       "      <td>3.963986</td>\n",
       "      <td>14.781991</td>\n",
       "      <td>1</td>\n",
       "      <td>0.991000</td>\n",
       "    </tr>\n",
       "    <tr>\n",
       "      <th>305</th>\n",
       "      <td>acdc_data3_20210722_pos_17_96</td>\n",
       "      <td>2.532803</td>\n",
       "      <td>7.614253</td>\n",
       "      <td>0</td>\n",
       "      <td>0.996762</td>\n",
       "    </tr>\n",
       "    <tr>\n",
       "      <th>458</th>\n",
       "      <td>acdc_data3_Yagya_SCGE_WT_pos_1_6</td>\n",
       "      <td>3.770883</td>\n",
       "      <td>9.550893</td>\n",
       "      <td>2</td>\n",
       "      <td>0.996096</td>\n",
       "    </tr>\n",
       "  </tbody>\n",
       "</table>\n",
       "</div>"
      ],
      "text/plain": [
       "                                                    id  first_comp  \\\n",
       "94   TimeLapse_2D_MIA_KC_htb1_mCitrine_labeled_pos_...    3.392725   \n",
       "160                           acdc_data2_F016_pos_4_66    2.919848   \n",
       "278                      acdc_data3_20210722_pos_13_36    3.963986   \n",
       "305                      acdc_data3_20210722_pos_17_96    2.532803   \n",
       "458                   acdc_data3_Yagya_SCGE_WT_pos_1_6    3.770883   \n",
       "\n",
       "     second_comp  cluster  uncertainty  \n",
       "94      4.094755        3     0.996475  \n",
       "160    12.799683        1     0.990393  \n",
       "278    14.781991        1     0.991000  \n",
       "305     7.614253        0     0.996762  \n",
       "458     9.550893        2     0.996096  "
      ]
     },
     "execution_count": 19,
     "metadata": {},
     "output_type": "execute_result"
    }
   ],
   "source": [
    "df[df[\"uncertainty\"]>=0.988864]"
   ]
  },
  {
   "cell_type": "code",
   "execution_count": 20,
   "id": "fda30433-aecd-4ebc-a7ba-85f4701fdd1e",
   "metadata": {},
   "outputs": [
    {
     "data": {
      "text/html": [
       "<div>\n",
       "<style scoped>\n",
       "    .dataframe tbody tr th:only-of-type {\n",
       "        vertical-align: middle;\n",
       "    }\n",
       "\n",
       "    .dataframe tbody tr th {\n",
       "        vertical-align: top;\n",
       "    }\n",
       "\n",
       "    .dataframe thead th {\n",
       "        text-align: right;\n",
       "    }\n",
       "</style>\n",
       "<table border=\"1\" class=\"dataframe\">\n",
       "  <thead>\n",
       "    <tr style=\"text-align: right;\">\n",
       "      <th></th>\n",
       "      <th>id</th>\n",
       "      <th>first_comp</th>\n",
       "      <th>second_comp</th>\n",
       "      <th>cluster</th>\n",
       "      <th>uncertainty</th>\n",
       "    </tr>\n",
       "  </thead>\n",
       "  <tbody>\n",
       "    <tr>\n",
       "      <th>0</th>\n",
       "      <td>TimeLapse_2D_MIA_KC_htb1_mCitrine_flu_control_...</td>\n",
       "      <td>2.939066</td>\n",
       "      <td>9.264055</td>\n",
       "      <td>2</td>\n",
       "      <td>0.563886</td>\n",
       "    </tr>\n",
       "    <tr>\n",
       "      <th>1</th>\n",
       "      <td>TimeLapse_2D_MIA_KC_htb1_mCitrine_flu_control_...</td>\n",
       "      <td>2.982318</td>\n",
       "      <td>9.241203</td>\n",
       "      <td>2</td>\n",
       "      <td>0.171831</td>\n",
       "    </tr>\n",
       "    <tr>\n",
       "      <th>2</th>\n",
       "      <td>TimeLapse_2D_MIA_KC_htb1_mCitrine_flu_control_...</td>\n",
       "      <td>3.039876</td>\n",
       "      <td>9.079784</td>\n",
       "      <td>2</td>\n",
       "      <td>0.823745</td>\n",
       "    </tr>\n",
       "    <tr>\n",
       "      <th>3</th>\n",
       "      <td>TimeLapse_2D_MIA_KC_htb1_mCitrine_flu_control_...</td>\n",
       "      <td>3.135292</td>\n",
       "      <td>9.011350</td>\n",
       "      <td>2</td>\n",
       "      <td>0.773760</td>\n",
       "    </tr>\n",
       "    <tr>\n",
       "      <th>4</th>\n",
       "      <td>TimeLapse_2D_MIA_KC_htb1_mCitrine_flu_control_...</td>\n",
       "      <td>3.301123</td>\n",
       "      <td>7.814825</td>\n",
       "      <td>0</td>\n",
       "      <td>0.787303</td>\n",
       "    </tr>\n",
       "    <tr>\n",
       "      <th>5</th>\n",
       "      <td>TimeLapse_2D_MIA_KC_htb1_mCitrine_flu_control_...</td>\n",
       "      <td>3.304550</td>\n",
       "      <td>7.880858</td>\n",
       "      <td>0</td>\n",
       "      <td>0.378610</td>\n",
       "    </tr>\n",
       "    <tr>\n",
       "      <th>6</th>\n",
       "      <td>TimeLapse_2D_MIA_KC_htb1_mCitrine_flu_control_...</td>\n",
       "      <td>3.767294</td>\n",
       "      <td>4.923484</td>\n",
       "      <td>3</td>\n",
       "      <td>0.245972</td>\n",
       "    </tr>\n",
       "    <tr>\n",
       "      <th>7</th>\n",
       "      <td>TimeLapse_2D_MIA_KC_htb1_mCitrine_flu_control_...</td>\n",
       "      <td>3.275160</td>\n",
       "      <td>8.153165</td>\n",
       "      <td>0</td>\n",
       "      <td>0.736616</td>\n",
       "    </tr>\n",
       "    <tr>\n",
       "      <th>8</th>\n",
       "      <td>TimeLapse_2D_MIA_KC_htb1_mCitrine_flu_control_...</td>\n",
       "      <td>3.074049</td>\n",
       "      <td>8.745005</td>\n",
       "      <td>2</td>\n",
       "      <td>0.636461</td>\n",
       "    </tr>\n",
       "    <tr>\n",
       "      <th>9</th>\n",
       "      <td>TimeLapse_2D_MIA_KC_htb1_mCitrine_flu_control_...</td>\n",
       "      <td>3.016082</td>\n",
       "      <td>8.921439</td>\n",
       "      <td>2</td>\n",
       "      <td>0.974007</td>\n",
       "    </tr>\n",
       "    <tr>\n",
       "      <th>10</th>\n",
       "      <td>TimeLapse_2D_MIA_KC_htb1_mCitrine_flu_control_...</td>\n",
       "      <td>3.195950</td>\n",
       "      <td>8.593165</td>\n",
       "      <td>2</td>\n",
       "      <td>0.827381</td>\n",
       "    </tr>\n",
       "    <tr>\n",
       "      <th>11</th>\n",
       "      <td>TimeLapse_2D_MIA_KC_htb1_mCitrine_flu_control_...</td>\n",
       "      <td>3.015388</td>\n",
       "      <td>8.479826</td>\n",
       "      <td>2</td>\n",
       "      <td>0.361048</td>\n",
       "    </tr>\n",
       "    <tr>\n",
       "      <th>12</th>\n",
       "      <td>TimeLapse_2D_MIA_KC_htb1_mCitrine_flu_control_...</td>\n",
       "      <td>3.019810</td>\n",
       "      <td>8.618844</td>\n",
       "      <td>2</td>\n",
       "      <td>0.489469</td>\n",
       "    </tr>\n",
       "    <tr>\n",
       "      <th>13</th>\n",
       "      <td>TimeLapse_2D_MIA_KC_htb1_mCitrine_flu_control_...</td>\n",
       "      <td>2.561790</td>\n",
       "      <td>9.801137</td>\n",
       "      <td>2</td>\n",
       "      <td>0.233315</td>\n",
       "    </tr>\n",
       "    <tr>\n",
       "      <th>14</th>\n",
       "      <td>TimeLapse_2D_MIA_KC_htb1_mCitrine_flu_control_...</td>\n",
       "      <td>2.921854</td>\n",
       "      <td>8.596473</td>\n",
       "      <td>2</td>\n",
       "      <td>0.660705</td>\n",
       "    </tr>\n",
       "    <tr>\n",
       "      <th>15</th>\n",
       "      <td>TimeLapse_2D_MIA_KC_htb1_mCitrine_flu_control_...</td>\n",
       "      <td>3.804210</td>\n",
       "      <td>5.254088</td>\n",
       "      <td>3</td>\n",
       "      <td>0.255654</td>\n",
       "    </tr>\n",
       "    <tr>\n",
       "      <th>16</th>\n",
       "      <td>TimeLapse_2D_MIA_KC_htb1_mCitrine_flu_control_...</td>\n",
       "      <td>3.715066</td>\n",
       "      <td>5.311319</td>\n",
       "      <td>3</td>\n",
       "      <td>0.906143</td>\n",
       "    </tr>\n",
       "    <tr>\n",
       "      <th>17</th>\n",
       "      <td>TimeLapse_2D_MIA_KC_htb1_mCitrine_flu_control_...</td>\n",
       "      <td>3.656068</td>\n",
       "      <td>5.128386</td>\n",
       "      <td>3</td>\n",
       "      <td>0.845640</td>\n",
       "    </tr>\n",
       "    <tr>\n",
       "      <th>18</th>\n",
       "      <td>TimeLapse_2D_MIA_KC_htb1_mCitrine_flu_control_...</td>\n",
       "      <td>3.667741</td>\n",
       "      <td>5.004454</td>\n",
       "      <td>3</td>\n",
       "      <td>0.882620</td>\n",
       "    </tr>\n",
       "    <tr>\n",
       "      <th>19</th>\n",
       "      <td>TimeLapse_2D_MIA_KC_htb1_mCitrine_flu_control_...</td>\n",
       "      <td>3.788695</td>\n",
       "      <td>5.188999</td>\n",
       "      <td>3</td>\n",
       "      <td>0.114222</td>\n",
       "    </tr>\n",
       "  </tbody>\n",
       "</table>\n",
       "</div>"
      ],
      "text/plain": [
       "                                                   id  first_comp  \\\n",
       "0   TimeLapse_2D_MIA_KC_htb1_mCitrine_flu_control_...    2.939066   \n",
       "1   TimeLapse_2D_MIA_KC_htb1_mCitrine_flu_control_...    2.982318   \n",
       "2   TimeLapse_2D_MIA_KC_htb1_mCitrine_flu_control_...    3.039876   \n",
       "3   TimeLapse_2D_MIA_KC_htb1_mCitrine_flu_control_...    3.135292   \n",
       "4   TimeLapse_2D_MIA_KC_htb1_mCitrine_flu_control_...    3.301123   \n",
       "5   TimeLapse_2D_MIA_KC_htb1_mCitrine_flu_control_...    3.304550   \n",
       "6   TimeLapse_2D_MIA_KC_htb1_mCitrine_flu_control_...    3.767294   \n",
       "7   TimeLapse_2D_MIA_KC_htb1_mCitrine_flu_control_...    3.275160   \n",
       "8   TimeLapse_2D_MIA_KC_htb1_mCitrine_flu_control_...    3.074049   \n",
       "9   TimeLapse_2D_MIA_KC_htb1_mCitrine_flu_control_...    3.016082   \n",
       "10  TimeLapse_2D_MIA_KC_htb1_mCitrine_flu_control_...    3.195950   \n",
       "11  TimeLapse_2D_MIA_KC_htb1_mCitrine_flu_control_...    3.015388   \n",
       "12  TimeLapse_2D_MIA_KC_htb1_mCitrine_flu_control_...    3.019810   \n",
       "13  TimeLapse_2D_MIA_KC_htb1_mCitrine_flu_control_...    2.561790   \n",
       "14  TimeLapse_2D_MIA_KC_htb1_mCitrine_flu_control_...    2.921854   \n",
       "15  TimeLapse_2D_MIA_KC_htb1_mCitrine_flu_control_...    3.804210   \n",
       "16  TimeLapse_2D_MIA_KC_htb1_mCitrine_flu_control_...    3.715066   \n",
       "17  TimeLapse_2D_MIA_KC_htb1_mCitrine_flu_control_...    3.656068   \n",
       "18  TimeLapse_2D_MIA_KC_htb1_mCitrine_flu_control_...    3.667741   \n",
       "19  TimeLapse_2D_MIA_KC_htb1_mCitrine_flu_control_...    3.788695   \n",
       "\n",
       "    second_comp  cluster  uncertainty  \n",
       "0      9.264055        2     0.563886  \n",
       "1      9.241203        2     0.171831  \n",
       "2      9.079784        2     0.823745  \n",
       "3      9.011350        2     0.773760  \n",
       "4      7.814825        0     0.787303  \n",
       "5      7.880858        0     0.378610  \n",
       "6      4.923484        3     0.245972  \n",
       "7      8.153165        0     0.736616  \n",
       "8      8.745005        2     0.636461  \n",
       "9      8.921439        2     0.974007  \n",
       "10     8.593165        2     0.827381  \n",
       "11     8.479826        2     0.361048  \n",
       "12     8.618844        2     0.489469  \n",
       "13     9.801137        2     0.233315  \n",
       "14     8.596473        2     0.660705  \n",
       "15     5.254088        3     0.255654  \n",
       "16     5.311319        3     0.906143  \n",
       "17     5.128386        3     0.845640  \n",
       "18     5.004454        3     0.882620  \n",
       "19     5.188999        3     0.114222  "
      ]
     },
     "execution_count": 20,
     "metadata": {},
     "output_type": "execute_result"
    }
   ],
   "source": [
    "df.head(20)"
   ]
  },
  {
   "cell_type": "code",
   "execution_count": null,
   "id": "b944d6b1-8626-4c3e-84a4-a06defbf2d71",
   "metadata": {},
   "outputs": [],
   "source": []
  }
 ],
 "metadata": {
  "kernelspec": {
   "display_name": "ac_acdc_env",
   "language": "python",
   "name": "ac_acdc_env"
  },
  "language_info": {
   "codemirror_mode": {
    "name": "ipython",
    "version": 3
   },
   "file_extension": ".py",
   "mimetype": "text/x-python",
   "name": "python",
   "nbconvert_exporter": "python",
   "pygments_lexer": "ipython3",
   "version": "3.10.6"
  }
 },
 "nbformat": 4,
 "nbformat_minor": 5
}
