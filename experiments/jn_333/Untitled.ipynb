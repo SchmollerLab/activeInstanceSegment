{
 "cells": [
  {
   "cell_type": "code",
   "execution_count": 16,
   "id": "eb3a18ff-0a4c-4a62-aec3-8d79e79ae704",
   "metadata": {
    "tags": []
   },
   "outputs": [
    {
     "name": "stdout",
     "output_type": "stream",
     "text": [
      "The autoreload extension is already loaded. To reload it, use:\n",
      "  %reload_ext autoreload\n",
      "/mnt/activeCell-ACDC\n",
      "README.md    data\t\tnohup.out  pipeline_configs  src\n",
      "ac_acdc_env  jupyter_notebooks\tnotebooks  requirements.txt  utils\n",
      "al_output    log\t\toutput\t   shell_scripts     wandb\n"
     ]
    }
   ],
   "source": [
    "%load_ext autoreload\n",
    "%autoreload 2\n",
    "%cd /mnt/activeCell-ACDC\n",
    "!ls\n",
    "\n",
    "import json\n",
    "import random as rd\n",
    "import matplotlib.image as mpimg\n",
    "import cv2\n",
    "import wandb\n",
    "import torch\n",
    "import os\n",
    "import logging\n",
    "import pandas as pd\n",
    "import collections\n",
    "import matplotlib.pyplot as plt\n",
    "import seaborn as sns\n",
    "\n",
    "from detectron2.utils.visualizer import Visualizer\n",
    "from detectron2.utils.logger import setup_logger\n",
    "from detectron2.data import MetadataCatalog, DatasetCatalog\n",
    "from detectron2 import model_zoo\n",
    "from detectron2.config import get_cfg\n",
    "from detectron2.modeling import build_model\n",
    "from detectron2.evaluation import COCOEvaluator, inference_on_dataset\n",
    "from detectron2.data import build_detection_test_loader\n",
    "from detectron2.engine import DefaultPredictor\n",
    "from detectron2.checkpoint import DetectionCheckpointer\n",
    "\n",
    "from src.globals import *\n",
    "from utils.visualization.show_image import show_image\n",
    "from utils.register_datasets import register_datasets, get_dataset_name\n",
    "from utils.config_builder import get_config\n",
    "from utils.notebook_utils import *\n",
    "\n",
    "\n",
    "from src.test import do_test\n",
    "from src.active_learning.al_trainer import *\n",
    "from src.active_learning.mc_dropout_sampler import *\n",
    "\n",
    "\n",
    "logger = setup_logger(output=\"./log/main.log\",name=\"null_logger\") \n",
    "logger.addHandler(logging.NullHandler())\n",
    "logging.getLogger('detectron2').setLevel(logging.WARNING)\n",
    "logging.getLogger('detectron2').addHandler(logging.NullHandler())"
   ]
  },
  {
   "cell_type": "code",
   "execution_count": 3,
   "id": "500fd626-687c-444a-bc50-5f2345400afe",
   "metadata": {
    "tags": []
   },
   "outputs": [],
   "source": [
    "df = pd.read_csv(\"jupyter_notebooks/results/uncertainties_vs_drop_prob.csv\")"
   ]
  },
  {
   "cell_type": "code",
   "execution_count": 4,
   "id": "18097a8b-c96a-4b9a-8957-eff85beb8d02",
   "metadata": {
    "tags": []
   },
   "outputs": [
    {
     "data": {
      "text/html": [
       "<div>\n",
       "<style scoped>\n",
       "    .dataframe tbody tr th:only-of-type {\n",
       "        vertical-align: middle;\n",
       "    }\n",
       "\n",
       "    .dataframe tbody tr th {\n",
       "        vertical-align: top;\n",
       "    }\n",
       "\n",
       "    .dataframe thead th {\n",
       "        text-align: right;\n",
       "    }\n",
       "</style>\n",
       "<table border=\"1\" class=\"dataframe\">\n",
       "  <thead>\n",
       "    <tr style=\"text-align: right;\">\n",
       "      <th></th>\n",
       "      <th>Unnamed: 0</th>\n",
       "      <th>num_mc_samples</th>\n",
       "      <th>dropout_prob</th>\n",
       "      <th>model_train_size</th>\n",
       "      <th>image_id</th>\n",
       "      <th>run_id</th>\n",
       "      <th>agg_uncertainty</th>\n",
       "    </tr>\n",
       "  </thead>\n",
       "  <tbody>\n",
       "    <tr>\n",
       "      <th>0</th>\n",
       "      <td>0</td>\n",
       "      <td>20</td>\n",
       "      <td>0.05</td>\n",
       "      <td>270</td>\n",
       "      <td>TimeLapse_2D_MIA_KC_htb1_mCitrine_labeled_pos_5_0</td>\n",
       "      <td>0</td>\n",
       "      <td>0.0</td>\n",
       "    </tr>\n",
       "    <tr>\n",
       "      <th>1</th>\n",
       "      <td>1</td>\n",
       "      <td>20</td>\n",
       "      <td>0.05</td>\n",
       "      <td>270</td>\n",
       "      <td>TimeLapse_2D_MIA_KC_htb1_mCitrine_labeled_pos_5_0</td>\n",
       "      <td>1</td>\n",
       "      <td>0.0</td>\n",
       "    </tr>\n",
       "    <tr>\n",
       "      <th>2</th>\n",
       "      <td>2</td>\n",
       "      <td>20</td>\n",
       "      <td>0.05</td>\n",
       "      <td>270</td>\n",
       "      <td>TimeLapse_2D_MIA_KC_htb1_mCitrine_labeled_pos_5_0</td>\n",
       "      <td>2</td>\n",
       "      <td>0.0</td>\n",
       "    </tr>\n",
       "    <tr>\n",
       "      <th>3</th>\n",
       "      <td>3</td>\n",
       "      <td>20</td>\n",
       "      <td>0.05</td>\n",
       "      <td>270</td>\n",
       "      <td>TimeLapse_2D_MIA_KC_htb1_mCitrine_labeled_pos_5_0</td>\n",
       "      <td>3</td>\n",
       "      <td>0.0</td>\n",
       "    </tr>\n",
       "    <tr>\n",
       "      <th>4</th>\n",
       "      <td>4</td>\n",
       "      <td>20</td>\n",
       "      <td>0.05</td>\n",
       "      <td>270</td>\n",
       "      <td>TimeLapse_2D_MIA_KC_htb1_mCitrine_labeled_pos_5_0</td>\n",
       "      <td>4</td>\n",
       "      <td>0.0</td>\n",
       "    </tr>\n",
       "  </tbody>\n",
       "</table>\n",
       "</div>"
      ],
      "text/plain": [
       "   Unnamed: 0  num_mc_samples  dropout_prob  model_train_size  \\\n",
       "0           0              20          0.05               270   \n",
       "1           1              20          0.05               270   \n",
       "2           2              20          0.05               270   \n",
       "3           3              20          0.05               270   \n",
       "4           4              20          0.05               270   \n",
       "\n",
       "                                            image_id  run_id  agg_uncertainty  \n",
       "0  TimeLapse_2D_MIA_KC_htb1_mCitrine_labeled_pos_5_0       0              0.0  \n",
       "1  TimeLapse_2D_MIA_KC_htb1_mCitrine_labeled_pos_5_0       1              0.0  \n",
       "2  TimeLapse_2D_MIA_KC_htb1_mCitrine_labeled_pos_5_0       2              0.0  \n",
       "3  TimeLapse_2D_MIA_KC_htb1_mCitrine_labeled_pos_5_0       3              0.0  \n",
       "4  TimeLapse_2D_MIA_KC_htb1_mCitrine_labeled_pos_5_0       4              0.0  "
      ]
     },
     "execution_count": 4,
     "metadata": {},
     "output_type": "execute_result"
    }
   ],
   "source": [
    "df.head()"
   ]
  },
  {
   "cell_type": "code",
   "execution_count": 21,
   "id": "743b31d8-f6f3-44a3-b714-f4c3f5c500d8",
   "metadata": {
    "tags": []
   },
   "outputs": [],
   "source": [
    "mean_var_df = df[[\"dropout_prob\", \"image_id\",\"agg_uncertainty\"]].groupby(by=[\"dropout_prob\", \"image_id\"]).agg(\"var\").reset_index()[[\"dropout_prob\",\"agg_uncertainty\"]].groupby(by=[\"dropout_prob\"]).agg(\"mean\")\n",
    "var_mean_df = df[[\"dropout_prob\", \"image_id\",\"agg_uncertainty\"]].groupby(by=[\"dropout_prob\", \"image_id\"]).agg(\"mean\").reset_index()[[\"dropout_prob\",\"agg_uncertainty\"]].groupby(by=[\"dropout_prob\"]).agg(\"var\")"
   ]
  },
  {
   "cell_type": "code",
   "execution_count": 25,
   "id": "18dca890-edfc-4917-bfe5-17d76633938a",
   "metadata": {
    "tags": []
   },
   "outputs": [
    {
     "data": {
      "image/png": "[encoded data removed]",
      "text/plain": [
       "<Figure size 640x480 with 1 Axes>"
      ]
     },
     "metadata": {},
     "output_type": "display_data"
    }
   ],
   "source": [
    "plot = sns.lineplot(data=mean_var_df, x=\"dropout_prob\", y=\"agg_uncertainty\")\n",
    "plot = sns.lineplot(data=var_mean_df, x=\"dropout_prob\", y=\"agg_uncertainty\")\n",
    "#plot.set(yscale='log')\n",
    "\n"
   ]
  },
  {
   "cell_type": "code",
   "execution_count": null,
   "id": "0b17453a-f5f4-4066-9088-b50a30346220",
   "metadata": {},
   "outputs": [],
   "source": []
  }
 ],
 "metadata": {
  "kernelspec": {
   "display_name": "Python 3 (ipykernel)",
   "language": "python",
   "name": "python3"
  },
  "language_info": {
   "codemirror_mode": {
    "name": "ipython",
    "version": 3
   },
   "file_extension": ".py",
   "mimetype": "text/x-python",
   "name": "python",
   "nbconvert_exporter": "python",
   "pygments_lexer": "ipython3",
   "version": "3.10.6"
  }
 },
 "nbformat": 4,
 "nbformat_minor": 5
}
